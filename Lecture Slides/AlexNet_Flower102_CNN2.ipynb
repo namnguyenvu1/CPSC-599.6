{
  "cells": [
    {
      "cell_type": "code",
      "execution_count": 56,
      "metadata": {
        "id": "64QiHPG71ekc"
      },
      "outputs": [],
      "source": [
        "from matplotlib import pyplot as plt\n",
        "import numpy as np\n",
        "from collections import Counter\n",
        "import cv2\n",
        "import torch\n",
        "from torch import nn, optim\n",
        "from torch.utils.data import Dataset, DataLoader, random_split\n",
        "from torchvision import datasets, transforms"
      ]
    },
    {
      "cell_type": "code",
      "execution_count": 59,
      "metadata": {
        "id": "8h0I_L3P2Z54"
      },
      "outputs": [],
      "source": [
        "transform = transforms.Compose([\n",
        "    transforms.Resize(224),\n",
        "    transforms.RandomCrop(224),\n",
        "    transforms.ToTensor(),\n",
        "    ])\n",
        "train_dataset = datasets.Flowers102('data', split = 'train', download=True, transform=transform)\n",
        "valid_dataset = datasets.Flowers102('data', split = 'val', download=True, transform=transform)\n",
        "test_dataset = datasets.Flowers102('data', split = 'test', download=True,transform=transform)"
      ]
    },
    {
      "cell_type": "code",
      "execution_count": 60,
      "metadata": {
        "id": "aJ9Zltks2O9M"
      },
      "outputs": [],
      "source": [
        "def visualize(image, label):\n",
        "  image = image.permute(1, 2, 0)\n",
        "  image = image.numpy()\n",
        "  plt.figure()\n",
        "  plt.imshow(image)\n",
        "  plt.title(str(label))\n",
        "  plt.xticks([])\n",
        "  plt.yticks([])\n"
      ]
    },
    {
      "cell_type": "code",
      "source": [
        "train_dataset[0][0].shape"
      ],
      "metadata": {
        "colab": {
          "base_uri": "https://localhost:8080/"
        },
        "id": "sw-QZtSLIh3m",
        "outputId": "37d53f0d-8e91-4625-e57a-ec21a70a4138"
      },
      "execution_count": 61,
      "outputs": [
        {
          "output_type": "execute_result",
          "data": {
            "text/plain": [
              "torch.Size([3, 224, 224])"
            ]
          },
          "metadata": {},
          "execution_count": 61
        }
      ]
    },
    {
      "cell_type": "code",
      "source": [
        "print(train_dataset[55][0].shape)"
      ],
      "metadata": {
        "colab": {
          "base_uri": "https://localhost:8080/"
        },
        "id": "Z_8b0NvdHuZi",
        "outputId": "1be478a1-3791-4334-b368-94ad04d9a716"
      },
      "execution_count": 62,
      "outputs": [
        {
          "output_type": "stream",
          "name": "stdout",
          "text": [
            "torch.Size([3, 224, 224])\n"
          ]
        }
      ]
    },
    {
      "cell_type": "code",
      "execution_count": null,
      "metadata": {
        "id": "gqrwoZ7K20P7"
      },
      "outputs": [],
      "source": [
        "train_examples = [train_dataset[i] for i in range(10)]\n",
        "for image, label in train_examples:\n",
        "  visualize(image, f'Train: {label}')"
      ]
    },
    {
      "cell_type": "code",
      "execution_count": null,
      "metadata": {
        "id": "SnWnGOC83Qg9"
      },
      "outputs": [],
      "source": [
        "train_examples = [valid_dataset[i] for i in range(10)]\n",
        "for image, label in train_examples:\n",
        "  visualize(image, f'Test: {label}')\n"
      ]
    },
    {
      "cell_type": "code",
      "execution_count": null,
      "metadata": {
        "id": "IPeti6RZ3TZ7"
      },
      "outputs": [],
      "source": [
        "test_examples = [test_dataset[i] for i in range(10)]\n",
        "for image, label in test_examples:\n",
        "  visualize(image, label)"
      ]
    },
    {
      "cell_type": "code",
      "execution_count": null,
      "metadata": {
        "id": "GBstv3CX40Y3"
      },
      "outputs": [],
      "source": [
        "training_labels  = [train_dataset[i][1] for i in range(len(train_dataset))]\n",
        "set(training_labels)"
      ]
    },
    {
      "cell_type": "code",
      "execution_count": null,
      "metadata": {
        "id": "M5goUxXF41mw"
      },
      "outputs": [],
      "source": [
        "test_labels  = [test_dataset[i][1] for i in range(len(test_dataset))]\n",
        "set(test_labels)"
      ]
    },
    {
      "cell_type": "code",
      "execution_count": null,
      "metadata": {
        "id": "Sh5GJ6oN5fbQ"
      },
      "outputs": [],
      "source": [
        "Counter(training_labels)"
      ]
    },
    {
      "cell_type": "code",
      "execution_count": null,
      "metadata": {
        "id": "X-IqCbZf50Bg"
      },
      "outputs": [],
      "source": [
        "Counter(test_labels)"
      ]
    },
    {
      "cell_type": "code",
      "execution_count": 70,
      "metadata": {
        "colab": {
          "base_uri": "https://localhost:8080/"
        },
        "id": "4tJa9bDd6ULg",
        "outputId": "371e387b-7121-4f49-a376-ccd81c81c33f"
      },
      "outputs": [
        {
          "output_type": "execute_result",
          "data": {
            "text/plain": [
              "{torch.Size([3, 224, 224])}"
            ]
          },
          "metadata": {},
          "execution_count": 70
        }
      ],
      "source": [
        "\n",
        "train_image_sizes = [train_dataset[i][0].shape for i in range(len(train_dataset))]\n",
        "set(train_image_sizes)"
      ]
    },
    {
      "cell_type": "code",
      "execution_count": 71,
      "metadata": {
        "colab": {
          "base_uri": "https://localhost:8080/"
        },
        "id": "K1wKQ30F63O8",
        "outputId": "2d263e5b-926a-4bad-8bbf-6a1bc4ea3615"
      },
      "outputs": [
        {
          "output_type": "execute_result",
          "data": {
            "text/plain": [
              "{torch.Size([3, 224, 224])}"
            ]
          },
          "metadata": {},
          "execution_count": 71
        }
      ],
      "source": [
        "test_image_sizes = [test_dataset[i][0].shape for i in range(len(test_dataset))]\n",
        "set(test_image_sizes)"
      ]
    },
    {
      "cell_type": "markdown",
      "metadata": {
        "id": "S7DS1z-zxnAJ"
      },
      "source": [
        "## You can alternatively define the model as an object.\n",
        "Note that you need to define the __init__ method and forward method. PyTorch takes care of the backward method for you."
      ]
    },
    {
      "cell_type": "code",
      "execution_count": 174,
      "metadata": {
        "id": "skZvQYM1yafI"
      },
      "outputs": [],
      "source": [
        "class AlexNet(nn.Module):\n",
        "    def __init__(self, num_channels, num_classes):\n",
        "        super().__init__()\n",
        "        self.conv1 = nn.Conv2d(in_channels=3, out_channels=96, kernel_size=11, stride=4, padding=3)\n",
        "        self.relu = nn.ReLU()\n",
        "        self.maxpool = nn.MaxPool2d(kernel_size=2, stride=2)\n",
        "        self.conv2 = nn.Conv2d(in_channels=96, out_channels=256, kernel_size=5, stride=1, padding=2)\n",
        "        self.conv3 = nn.Conv2d(in_channels=256, out_channels=384, kernel_size=3, stride=1, padding=1)\n",
        "        self.conv4 = nn.Conv2d(in_channels=384, out_channels=384, kernel_size=3, stride=1, padding=1)\n",
        "        self.conv5 = nn.Conv2d(in_channels=384, out_channels=256, kernel_size=3, stride=1, padding=1)\n",
        "        self.flatten = nn.Flatten()\n",
        "        self.linear1 = nn.Linear(in_features=6*6*256, out_features=4096)\n",
        "        self.linear2 = nn.Linear(in_features=4096, out_features=4096)\n",
        "        self.linear3 = nn.Linear(in_features=4096, out_features=num_classes)\n",
        "\n",
        "    def forward(self, x):\n",
        "      x = self.conv1(x)\n",
        "      print(x.shape)\n",
        "      x = self.maxpool(x)\n",
        "      x = self.relu(x)\n",
        "\n",
        "      x = self.conv2(x)\n",
        "      x = self.maxpool(x)\n",
        "      x = self.relu(x)\n",
        "\n",
        "      x = self.conv3(x)\n",
        "      x = self.relu(x)\n",
        "\n",
        "      x = self.conv4(x)\n",
        "      x = self.relu(x)\n",
        "\n",
        "      x = self.conv5(x)\n",
        "      x = self.relu(x)\n",
        "\n",
        "      x = self.maxpool(x)\n",
        "\n",
        "      x = self.flatten(x)\n",
        "      x = self.linear1(x)\n",
        "      x = self.relu(x)\n",
        "\n",
        "      x = self.linear2(x)\n",
        "      x = self.relu(x)\n",
        "\n",
        "      x = self.linear3(x)\n",
        "\n",
        "      return x"
      ]
    },
    {
      "cell_type": "code",
      "source": [
        "class AlexNet(nn.Module):\n",
        "    def __init__(self, num_channels, num_classes):\n",
        "        super().__init__()\n",
        "        self.features = nn.Sequential(\n",
        "            nn.Conv2d(in_channels=3, out_channels=96, kernel_size=11, stride=4, padding=3),\n",
        "            nn.MaxPool2d(kernel_size=2, stride=2),\n",
        "            nn.ReLU(),\n",
        "            nn.Conv2d(in_channels=96, out_channels=256, kernel_size=5, stride=1, padding=2),\n",
        "            nn.MaxPool2d(kernel_size=2, stride=2),\n",
        "            nn.ReLU(),\n",
        "            nn.Conv2d(in_channels=256, out_channels=384, kernel_size=3, stride=1, padding=1),\n",
        "            nn.ReLU(),\n",
        "            nn.Conv2d(in_channels=384, out_channels=384, kernel_size=3, stride=1, padding=1),\n",
        "            nn.ReLU(),\n",
        "            nn.Conv2d(in_channels=384, out_channels=256, kernel_size=3, stride=1, padding=1),\n",
        "            nn.ReLU(),\n",
        "            nn.MaxPool2d(kernel_size=2, stride=2)\n",
        "        )\n",
        "        self.flatten = nn.Flatten()\n",
        "        self.classifier = nn.Sequential(\n",
        "            nn.Linear(in_features=6*6*256, out_features=4096),\n",
        "            nn.ReLU(),\n",
        "            nn.Linear(in_features=4096, out_features=4096),\n",
        "            nn.ReLU(),\n",
        "            nn.Linear(in_features=4096, out_features=num_classes)\n",
        "        )\n",
        "\n",
        "\n",
        "    def forward(self, x):\n",
        "      x = self.features(x)\n",
        "      x = self.flatten(x)\n",
        "      x = self.classifier(x)\n",
        "      return x"
      ],
      "metadata": {
        "id": "XhRGrXJBBYhO"
      },
      "execution_count": 177,
      "outputs": []
    },
    {
      "cell_type": "code",
      "source": [
        "model = AlexNet(num_channels=3, num_classes=102)"
      ],
      "metadata": {
        "id": "2SgqEwruEzRK"
      },
      "execution_count": 178,
      "outputs": []
    },
    {
      "cell_type": "code",
      "execution_count": 179,
      "metadata": {
        "id": "FhYaxMB37giY"
      },
      "outputs": [],
      "source": [
        "batch_size = 64\n",
        "train_loader = DataLoader(train_dataset, batch_size, shuffle=True)\n",
        "valid_loader = DataLoader(valid_dataset, batch_size, shuffle=False)\n",
        "test_loader = DataLoader(test_dataset, batch_size, shuffle=False)"
      ]
    },
    {
      "cell_type": "code",
      "execution_count": 180,
      "metadata": {
        "id": "JuuSMdK0cL0p"
      },
      "outputs": [],
      "source": [
        "device = torch.device(\"cuda\" if torch.cuda.is_available() else \"cpu\");\n",
        "model = model.to(device)\n",
        "criterion = nn.CrossEntropyLoss()\n",
        "optimizer = optim.SGD(model.parameters(), lr=0.01, momentum=0.9)"
      ]
    },
    {
      "cell_type": "code",
      "execution_count": 181,
      "metadata": {
        "id": "oiVDEkKs7aoo"
      },
      "outputs": [],
      "source": [
        "def evaluation(model, loader, criterion, device, phase='Valid'):\n",
        "  model.eval()\n",
        "  predictions = []\n",
        "  ground_truth = []\n",
        "  with torch.no_grad():\n",
        "    total_loss = 0\n",
        "    total  = 0\n",
        "    correct = 0\n",
        "    for batch_index, (images, labels) in enumerate(loader):\n",
        "      images = images.to(device)\n",
        "      labels = labels.to(device)\n",
        "      outputs = model(images)\n",
        "      loss = criterion(outputs, labels)\n",
        "      total_loss += loss.item() * images.size(0)\n",
        "      total += images.size(0)\n",
        "      _, preds = torch.max(outputs, 1)\n",
        "      predictions.extend(preds.cpu().numpy())\n",
        "      ground_truth.extend(labels.cpu().numpy())\n",
        "      correct += (preds == labels).sum().item()\n",
        "    accuracy = correct / total\n",
        "    loss = total_loss / total\n",
        "    print(f'     {phase} Accuracy={accuracy:<10.4f}  Loss= {loss:<10.4f}')\n",
        "    return {'loss': loss,\n",
        "            'accuracy': accuracy,\n",
        "            'ground_truth': ground_truth,\n",
        "            'predictions': predictions}"
      ]
    },
    {
      "cell_type": "code",
      "execution_count": 182,
      "metadata": {
        "id": "3DcQAwLYcoRX"
      },
      "outputs": [],
      "source": [
        "def training(model, train_loader, valid_loader, criterion, optimizer, device,\n",
        "             epochs, best_model_path):\n",
        "  model.train()\n",
        "  best_loss = torch.inf\n",
        "  best_restults = None\n",
        "  for epoch in range(epochs):\n",
        "    total_loss = 0\n",
        "    total  = 0\n",
        "    correct = 0\n",
        "    for batch_index, (images, labels) in enumerate(train_loader):\n",
        "      optimizer.zero_grad()\n",
        "      images = images.to(device)\n",
        "      labels = labels.to(device)\n",
        "      outputs = model(images)\n",
        "      loss = criterion(outputs, labels)\n",
        "      loss.backward()\n",
        "      optimizer.step()\n",
        "      total_loss += loss.item() * images.size(0)\n",
        "      total += images.size(0)\n",
        "      _, preds = torch.max(outputs, 1)\n",
        "      correct += (preds == labels).sum().item()\n",
        "    accuracy = correct / total\n",
        "    loss = total_loss / total\n",
        "    print(f'{epoch:<4} Train Accuracy={accuracy:<10.4f}  Loss= {loss:<10.4f}')\n",
        "    results = evaluation(model, valid_loader, criterion, device)\n",
        "    if results['loss'] < best_loss:\n",
        "      torch.save(model, best_model_path)\n",
        "      best_loss = results['loss']\n",
        "      best_restults = results\n",
        "    print()\n",
        "  return best_restults"
      ]
    },
    {
      "cell_type": "code",
      "execution_count": 183,
      "metadata": {
        "id": "LZL93cHyDYPw",
        "colab": {
          "base_uri": "https://localhost:8080/"
        },
        "outputId": "417d346f-9cbc-4d9b-a0e2-b01bdc985d62"
      },
      "outputs": [
        {
          "output_type": "stream",
          "name": "stdout",
          "text": [
            "0    Train Accuracy=0.0088      Loss= 4.6254    \n",
            "     Valid Accuracy=0.0137      Loss= 4.6250    \n",
            "\n",
            "1    Train Accuracy=0.0078      Loss= 4.6254    \n",
            "     Valid Accuracy=0.0118      Loss= 4.6250    \n",
            "\n",
            "2    Train Accuracy=0.0088      Loss= 4.6254    \n",
            "     Valid Accuracy=0.0127      Loss= 4.6250    \n",
            "\n",
            "3    Train Accuracy=0.0078      Loss= 4.6253    \n",
            "     Valid Accuracy=0.0118      Loss= 4.6249    \n",
            "\n",
            "4    Train Accuracy=0.0098      Loss= 4.6253    \n",
            "     Valid Accuracy=0.0098      Loss= 4.6249    \n",
            "\n",
            "5    Train Accuracy=0.0098      Loss= 4.6253    \n",
            "     Valid Accuracy=0.0098      Loss= 4.6249    \n",
            "\n",
            "6    Train Accuracy=0.0098      Loss= 4.6253    \n",
            "     Valid Accuracy=0.0098      Loss= 4.6248    \n",
            "\n",
            "7    Train Accuracy=0.0098      Loss= 4.6252    \n",
            "     Valid Accuracy=0.0098      Loss= 4.6248    \n",
            "\n",
            "8    Train Accuracy=0.0108      Loss= 4.6251    \n",
            "     Valid Accuracy=0.0186      Loss= 4.6248    \n",
            "\n",
            "9    Train Accuracy=0.0088      Loss= 4.6251    \n",
            "     Valid Accuracy=0.0157      Loss= 4.6247    \n",
            "\n",
            "10   Train Accuracy=0.0088      Loss= 4.6251    \n",
            "     Valid Accuracy=0.0186      Loss= 4.6247    \n",
            "\n",
            "11   Train Accuracy=0.0108      Loss= 4.6249    \n",
            "     Valid Accuracy=0.0118      Loss= 4.6246    \n",
            "\n",
            "12   Train Accuracy=0.0108      Loss= 4.6249    \n",
            "     Valid Accuracy=0.0147      Loss= 4.6245    \n",
            "\n",
            "13   Train Accuracy=0.0088      Loss= 4.6248    \n",
            "     Valid Accuracy=0.0118      Loss= 4.6244    \n",
            "\n",
            "14   Train Accuracy=0.0108      Loss= 4.6247    \n",
            "     Valid Accuracy=0.0108      Loss= 4.6243    \n",
            "\n",
            "15   Train Accuracy=0.0078      Loss= 4.6246    \n",
            "     Valid Accuracy=0.0108      Loss= 4.6242    \n",
            "\n",
            "16   Train Accuracy=0.0108      Loss= 4.6244    \n",
            "     Valid Accuracy=0.0147      Loss= 4.6240    \n",
            "\n",
            "17   Train Accuracy=0.0147      Loss= 4.6242    \n",
            "     Valid Accuracy=0.0206      Loss= 4.6238    \n",
            "\n",
            "18   Train Accuracy=0.0157      Loss= 4.6239    \n",
            "     Valid Accuracy=0.0167      Loss= 4.6235    \n",
            "\n",
            "19   Train Accuracy=0.0118      Loss= 4.6235    \n",
            "     Valid Accuracy=0.0176      Loss= 4.6230    \n",
            "\n",
            "20   Train Accuracy=0.0167      Loss= 4.6229    \n",
            "     Valid Accuracy=0.0186      Loss= 4.6224    \n",
            "\n",
            "21   Train Accuracy=0.0157      Loss= 4.6221    \n",
            "     Valid Accuracy=0.0245      Loss= 4.6214    \n",
            "\n",
            "22   Train Accuracy=0.0206      Loss= 4.6208    \n",
            "     Valid Accuracy=0.0265      Loss= 4.6198    \n",
            "\n",
            "23   Train Accuracy=0.0275      Loss= 4.6187    \n",
            "     Valid Accuracy=0.0284      Loss= 4.6169    \n",
            "\n",
            "24   Train Accuracy=0.0284      Loss= 4.6143    \n",
            "     Valid Accuracy=0.0235      Loss= 4.6098    \n",
            "\n",
            "25   Train Accuracy=0.0196      Loss= 4.6013    \n",
            "     Valid Accuracy=0.0157      Loss= 4.5819    \n",
            "\n",
            "26   Train Accuracy=0.0157      Loss= 4.5426    \n",
            "     Valid Accuracy=0.0186      Loss= 4.4410    \n",
            "\n",
            "27   Train Accuracy=0.0206      Loss= 4.4047    \n",
            "     Valid Accuracy=0.0225      Loss= 4.3685    \n",
            "\n",
            "28   Train Accuracy=0.0255      Loss= 4.3298    \n",
            "     Valid Accuracy=0.0225      Loss= 4.2486    \n",
            "\n",
            "29   Train Accuracy=0.0176      Loss= 4.2050    \n",
            "     Valid Accuracy=0.0333      Loss= 4.1872    \n",
            "\n",
            "30   Train Accuracy=0.0431      Loss= 4.2090    \n",
            "     Valid Accuracy=0.0373      Loss= 4.1790    \n",
            "\n",
            "31   Train Accuracy=0.0373      Loss= 4.0929    \n",
            "     Valid Accuracy=0.0382      Loss= 4.1384    \n",
            "\n",
            "32   Train Accuracy=0.0510      Loss= 4.0321    \n",
            "     Valid Accuracy=0.0490      Loss= 4.1036    \n",
            "\n",
            "33   Train Accuracy=0.0520      Loss= 3.9692    \n",
            "     Valid Accuracy=0.0480      Loss= 4.0743    \n",
            "\n",
            "34   Train Accuracy=0.0598      Loss= 3.8835    \n",
            "     Valid Accuracy=0.0578      Loss= 4.1205    \n",
            "\n",
            "35   Train Accuracy=0.0549      Loss= 3.9240    \n",
            "     Valid Accuracy=0.0667      Loss= 4.0579    \n",
            "\n",
            "36   Train Accuracy=0.0843      Loss= 3.8210    \n",
            "     Valid Accuracy=0.0578      Loss= 3.9855    \n",
            "\n",
            "37   Train Accuracy=0.0902      Loss= 3.7046    \n",
            "     Valid Accuracy=0.0637      Loss= 3.9252    \n",
            "\n",
            "38   Train Accuracy=0.1029      Loss= 3.6000    \n",
            "     Valid Accuracy=0.0824      Loss= 3.8872    \n",
            "\n",
            "39   Train Accuracy=0.1294      Loss= 3.4461    \n",
            "     Valid Accuracy=0.0902      Loss= 3.9014    \n",
            "\n",
            "40   Train Accuracy=0.1225      Loss= 3.3923    \n",
            "     Valid Accuracy=0.1118      Loss= 3.8594    \n",
            "\n",
            "41   Train Accuracy=0.1324      Loss= 3.3354    \n",
            "     Valid Accuracy=0.0961      Loss= 3.8782    \n",
            "\n",
            "42   Train Accuracy=0.1725      Loss= 3.1367    \n",
            "     Valid Accuracy=0.1098      Loss= 3.7448    \n",
            "\n",
            "43   Train Accuracy=0.2039      Loss= 3.0124    \n",
            "     Valid Accuracy=0.1333      Loss= 3.8207    \n",
            "\n",
            "44   Train Accuracy=0.2275      Loss= 3.0006    \n",
            "     Valid Accuracy=0.1216      Loss= 3.9952    \n",
            "\n",
            "45   Train Accuracy=0.2402      Loss= 2.8434    \n",
            "     Valid Accuracy=0.1186      Loss= 3.9956    \n",
            "\n",
            "46   Train Accuracy=0.2922      Loss= 2.5526    \n",
            "     Valid Accuracy=0.1353      Loss= 3.8752    \n",
            "\n",
            "47   Train Accuracy=0.3647      Loss= 2.2993    \n",
            "     Valid Accuracy=0.1422      Loss= 3.9427    \n",
            "\n",
            "48   Train Accuracy=0.3618      Loss= 2.2627    \n",
            "     Valid Accuracy=0.1216      Loss= 4.2122    \n",
            "\n",
            "49   Train Accuracy=0.4451      Loss= 2.0436    \n",
            "     Valid Accuracy=0.1392      Loss= 4.0802    \n",
            "\n",
            "50   Train Accuracy=0.4784      Loss= 1.9135    \n",
            "     Valid Accuracy=0.1392      Loss= 4.4578    \n",
            "\n",
            "51   Train Accuracy=0.4990      Loss= 1.7267    \n",
            "     Valid Accuracy=0.1020      Loss= 4.5316    \n",
            "\n",
            "52   Train Accuracy=0.5275      Loss= 1.5905    \n",
            "     Valid Accuracy=0.1275      Loss= 4.5414    \n",
            "\n",
            "53   Train Accuracy=0.5794      Loss= 1.5611    \n",
            "     Valid Accuracy=0.1118      Loss= 4.7154    \n",
            "\n",
            "54   Train Accuracy=0.6265      Loss= 1.3345    \n",
            "     Valid Accuracy=0.1284      Loss= 5.1537    \n",
            "\n",
            "55   Train Accuracy=0.6049      Loss= 1.4402    \n",
            "     Valid Accuracy=0.1353      Loss= 5.6410    \n",
            "\n",
            "56   Train Accuracy=0.6804      Loss= 1.0948    \n",
            "     Valid Accuracy=0.1324      Loss= 5.3123    \n",
            "\n",
            "57   Train Accuracy=0.7137      Loss= 0.9798    \n",
            "     Valid Accuracy=0.1333      Loss= 5.0352    \n",
            "\n",
            "58   Train Accuracy=0.7578      Loss= 0.9100    \n",
            "     Valid Accuracy=0.1510      Loss= 5.6701    \n",
            "\n",
            "59   Train Accuracy=0.7941      Loss= 0.7295    \n",
            "     Valid Accuracy=0.1500      Loss= 5.7021    \n",
            "\n",
            "60   Train Accuracy=0.7882      Loss= 0.8188    \n",
            "     Valid Accuracy=0.1627      Loss= 5.1653    \n",
            "\n",
            "61   Train Accuracy=0.8235      Loss= 0.6746    \n",
            "     Valid Accuracy=0.1520      Loss= 6.1370    \n",
            "\n",
            "62   Train Accuracy=0.8186      Loss= 0.6213    \n",
            "     Valid Accuracy=0.1578      Loss= 6.0055    \n",
            "\n",
            "63   Train Accuracy=0.8520      Loss= 0.5405    \n",
            "     Valid Accuracy=0.1471      Loss= 5.9895    \n",
            "\n",
            "64   Train Accuracy=0.8608      Loss= 0.5079    \n",
            "     Valid Accuracy=0.1304      Loss= 5.9156    \n",
            "\n",
            "65   Train Accuracy=0.8843      Loss= 0.4105    \n",
            "     Valid Accuracy=0.1686      Loss= 6.3649    \n",
            "\n",
            "66   Train Accuracy=0.8902      Loss= 0.4015    \n",
            "     Valid Accuracy=0.1588      Loss= 6.2273    \n",
            "\n",
            "67   Train Accuracy=0.8814      Loss= 0.4222    \n",
            "     Valid Accuracy=0.1637      Loss= 5.6385    \n",
            "\n",
            "68   Train Accuracy=0.9118      Loss= 0.3177    \n",
            "     Valid Accuracy=0.1382      Loss= 7.1031    \n",
            "\n",
            "69   Train Accuracy=0.8892      Loss= 0.4170    \n",
            "     Valid Accuracy=0.1510      Loss= 6.4460    \n",
            "\n",
            "70   Train Accuracy=0.9127      Loss= 0.3014    \n",
            "     Valid Accuracy=0.1382      Loss= 6.7108    \n",
            "\n",
            "71   Train Accuracy=0.9353      Loss= 0.2526    \n",
            "     Valid Accuracy=0.1588      Loss= 6.5407    \n",
            "\n",
            "72   Train Accuracy=0.9480      Loss= 0.2092    \n",
            "     Valid Accuracy=0.1500      Loss= 6.6244    \n",
            "\n",
            "73   Train Accuracy=0.9529      Loss= 0.2277    \n",
            "     Valid Accuracy=0.1343      Loss= 7.0777    \n",
            "\n",
            "74   Train Accuracy=0.9373      Loss= 0.2539    \n",
            "     Valid Accuracy=0.1373      Loss= 6.9217    \n",
            "\n",
            "75   Train Accuracy=0.9539      Loss= 0.1469    \n",
            "     Valid Accuracy=0.1529      Loss= 7.8667    \n",
            "\n",
            "76   Train Accuracy=0.9490      Loss= 0.1737    \n",
            "     Valid Accuracy=0.1451      Loss= 7.7507    \n",
            "\n",
            "77   Train Accuracy=0.9373      Loss= 0.2197    \n",
            "     Valid Accuracy=0.1471      Loss= 6.8488    \n",
            "\n",
            "78   Train Accuracy=0.9225      Loss= 0.2499    \n",
            "     Valid Accuracy=0.1490      Loss= 7.7925    \n",
            "\n",
            "79   Train Accuracy=0.9294      Loss= 0.2427    \n",
            "     Valid Accuracy=0.1529      Loss= 7.3267    \n",
            "\n",
            "80   Train Accuracy=0.9431      Loss= 0.2224    \n",
            "     Valid Accuracy=0.1510      Loss= 7.1309    \n",
            "\n",
            "81   Train Accuracy=0.9500      Loss= 0.1799    \n",
            "     Valid Accuracy=0.1588      Loss= 7.4781    \n",
            "\n",
            "82   Train Accuracy=0.9324      Loss= 0.2607    \n",
            "     Valid Accuracy=0.1373      Loss= 6.4913    \n",
            "\n",
            "83   Train Accuracy=0.9059      Loss= 0.3309    \n",
            "     Valid Accuracy=0.1392      Loss= 7.5075    \n",
            "\n",
            "84   Train Accuracy=0.9245      Loss= 0.2953    \n",
            "     Valid Accuracy=0.1529      Loss= 6.2215    \n",
            "\n",
            "85   Train Accuracy=0.9451      Loss= 0.2161    \n",
            "     Valid Accuracy=0.1461      Loss= 7.0624    \n",
            "\n",
            "86   Train Accuracy=0.9618      Loss= 0.1515    \n",
            "     Valid Accuracy=0.1490      Loss= 8.1018    \n",
            "\n",
            "87   Train Accuracy=0.9578      Loss= 0.1434    \n",
            "     Valid Accuracy=0.1490      Loss= 7.8815    \n",
            "\n",
            "88   Train Accuracy=0.9569      Loss= 0.1557    \n",
            "     Valid Accuracy=0.1304      Loss= 7.7234    \n",
            "\n",
            "89   Train Accuracy=0.9686      Loss= 0.1499    \n",
            "     Valid Accuracy=0.1422      Loss= 6.9082    \n",
            "\n",
            "90   Train Accuracy=0.9676      Loss= 0.1073    \n",
            "     Valid Accuracy=0.1569      Loss= 7.3820    \n",
            "\n",
            "91   Train Accuracy=0.9686      Loss= 0.1321    \n",
            "     Valid Accuracy=0.1451      Loss= 7.9017    \n",
            "\n",
            "92   Train Accuracy=0.9667      Loss= 0.1284    \n",
            "     Valid Accuracy=0.1637      Loss= 7.0878    \n",
            "\n",
            "93   Train Accuracy=0.9745      Loss= 0.1055    \n",
            "     Valid Accuracy=0.1461      Loss= 7.3957    \n",
            "\n",
            "94   Train Accuracy=0.9725      Loss= 0.1233    \n",
            "     Valid Accuracy=0.1676      Loss= 7.2692    \n",
            "\n",
            "95   Train Accuracy=0.9824      Loss= 0.0853    \n",
            "     Valid Accuracy=0.1725      Loss= 7.0699    \n",
            "\n",
            "96   Train Accuracy=0.9784      Loss= 0.0743    \n",
            "     Valid Accuracy=0.1608      Loss= 7.2316    \n",
            "\n",
            "97   Train Accuracy=0.9873      Loss= 0.0578    \n",
            "     Valid Accuracy=0.1490      Loss= 6.6469    \n",
            "\n",
            "98   Train Accuracy=0.9882      Loss= 0.0463    \n",
            "     Valid Accuracy=0.1686      Loss= 6.9899    \n",
            "\n",
            "99   Train Accuracy=0.9931      Loss= 0.0288    \n",
            "     Valid Accuracy=0.1716      Loss= 7.7630    \n",
            "\n"
          ]
        }
      ],
      "source": [
        "epochs = 100\n",
        "best_model_path = 'best_model.pt'\n",
        "best_restults = training(model, train_loader, valid_loader, criterion,\n",
        "                         optimizer, device, epochs, best_model_path)"
      ]
    },
    {
      "cell_type": "markdown",
      "metadata": {
        "id": "D_Bp1YkKgd-J"
      },
      "source": [
        "## Testing the last model\n"
      ]
    },
    {
      "cell_type": "code",
      "source": [
        "results = evaluation(model, test_loader, criterion, device, 'Test')"
      ],
      "metadata": {
        "colab": {
          "base_uri": "https://localhost:8080/"
        },
        "id": "kQHOblfug48I",
        "outputId": "dd40d95b-76b8-4923-b010-60351b2e78af"
      },
      "execution_count": 184,
      "outputs": [
        {
          "output_type": "stream",
          "name": "stdout",
          "text": [
            "     Test Accuracy=0.1680      Loss= 7.7834    \n"
          ]
        }
      ]
    },
    {
      "cell_type": "markdown",
      "source": [
        "## Testing the best model\n"
      ],
      "metadata": {
        "id": "fAG84uj8LBYq"
      }
    },
    {
      "cell_type": "code",
      "execution_count": 186,
      "metadata": {
        "colab": {
          "base_uri": "https://localhost:8080/"
        },
        "id": "HYJ-6GTKgStE",
        "outputId": "079b5752-011e-486a-c3f8-7ce5426e2b67"
      },
      "outputs": [
        {
          "output_type": "stream",
          "name": "stdout",
          "text": [
            "     Test Accuracy=0.0859      Loss= 3.8630    \n"
          ]
        }
      ],
      "source": [
        "best_model = torch.load(best_model_path)\n",
        "results = evaluation(best_model, test_loader, criterion, device, 'Test')"
      ]
    },
    {
      "cell_type": "code",
      "source": [],
      "metadata": {
        "id": "3L3ycl2xg8TS"
      },
      "execution_count": null,
      "outputs": []
    }
  ],
  "metadata": {
    "accelerator": "GPU",
    "colab": {
      "provenance": [],
      "gpuType": "T4"
    },
    "kernelspec": {
      "display_name": "Python 3",
      "name": "python3"
    },
    "language_info": {
      "name": "python"
    }
  },
  "nbformat": 4,
  "nbformat_minor": 0
}